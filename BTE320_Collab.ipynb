{
  "nbformat": 4,
  "nbformat_minor": 0,
  "metadata": {
    "colab": {
      "provenance": [],
      "authorship_tag": "ABX9TyPsAFFat33DvmvFy3sMuwX3",
      "include_colab_link": true
    },
    "kernelspec": {
      "name": "python3",
      "display_name": "Python 3"
    },
    "language_info": {
      "name": "python"
    }
  },
  "cells": [
    {
      "cell_type": "markdown",
      "metadata": {
        "id": "view-in-github",
        "colab_type": "text"
      },
      "source": [
        "<a href=\"https://colab.research.google.com/github/juliauziel/BTE320/blob/main/BTE320_Collab.ipynb\" target=\"_parent\"><img src=\"https://colab.research.google.com/assets/colab-badge.svg\" alt=\"Open In Colab\"/></a>"
      ]
    },
    {
      "cell_type": "code",
      "source": [
        "import random\n",
        "answer=input('do you want to play a game?')\n",
        "while answer == 'y':\n",
        "  user_choice = input('Enter your choice (rock, paper, scissors): ').lower()\n",
        "  computer_choice = random.choice(['rock', 'paper', 'scissors'])\n",
        "\n",
        "  if user_choice == computer_choice:\n",
        "          print('it is a tie')\n",
        "  elif (user_choice == 'rock' and computer_choice == 'scissors') or \\\n",
        "          (user_choice == 'paper' and computer_choice == 'rock') or \\\n",
        "          (user_choice == 'scissors' and computer_choice == 'paper'):\n",
        "        print('you win')\n",
        "  else:\n",
        "    print('computer wins')\n",
        "  answer=input('do you want to play a game?')\n",
        "\n"
      ],
      "metadata": {
        "colab": {
          "base_uri": "https://localhost:8080/"
        },
        "id": "2vnAsMXJEfPG",
        "outputId": "d0a4eef0-3285-41a3-a2de-455c501ef580"
      },
      "execution_count": null,
      "outputs": [
        {
          "name": "stdout",
          "output_type": "stream",
          "text": [
            "do you want to play a game?y\n",
            "Enter your choice (rock, paper, scissors): rock\n",
            "you win\n",
            "do you want to play a game?n\n"
          ]
        }
      ]
    },
    {
      "cell_type": "code",
      "source": [],
      "metadata": {
        "id": "NRz9DzEEK9dE"
      },
      "execution_count": null,
      "outputs": []
    },
    {
      "cell_type": "code",
      "source": [
        " if (year % 4 == 0 and year % 100 != 0) or (year % 400 == 0):\n",
        "  print('true')\n",
        "\n",
        "if(year)"
      ],
      "metadata": {
        "id": "jF8zVRszNWTL"
      },
      "execution_count": null,
      "outputs": []
    },
    {
      "cell_type": "code",
      "source": [
        "import random\n",
        "\n",
        "user_choice = input(\"Enter your choice (rock, paper, or scissors): \")\n",
        "computer_choice = random.choice([\"rock\", \"paper\", \"scissors\"])\n",
        "\n",
        "print(f\"You chose: {user_choice}\")\n",
        "print(f\"Computer chose: {computer_choice}\")\n",
        "\n",
        "if user_choice == computer_choice:\n",
        "    print(\"It's a tie!\")\n",
        "elif (\n",
        "    (user_choice == \"rock\" and computer_choice == \"scissors\") or\n",
        "    (user_choice == \"paper\" and computer_choice == \"rock\") or\n",
        "    (user_choice == \"scissors\" and computer_choice == \"paper\")\n",
        "):\n",
        "    print(\"You win!\")\n",
        "else:\n",
        "    print(\"Computer wins!\")"
      ],
      "metadata": {
        "colab": {
          "base_uri": "https://localhost:8080/"
        },
        "id": "RyH9vYQ4Lopt",
        "outputId": "ab779bba-553b-4beb-b884-25d41191475e"
      },
      "execution_count": null,
      "outputs": [
        {
          "output_type": "stream",
          "name": "stdout",
          "text": [
            "Enter your choice (rock, paper, or scissors): rock\n",
            "You chose: rock\n",
            "Computer chose: paper\n",
            "Computer wins!\n"
          ]
        }
      ]
    }
  ]
}