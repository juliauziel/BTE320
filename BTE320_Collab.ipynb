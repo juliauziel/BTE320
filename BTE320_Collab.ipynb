{
  "cells": [
    {
      "cell_type": "markdown",
      "metadata": {
        "id": "view-in-github",
        "colab_type": "text"
      },
      "source": [
        "<a href=\"https://colab.research.google.com/github/juliauziel/BTE320/blob/main/BTE320_Collab.ipynb\" target=\"_parent\"><img src=\"https://colab.research.google.com/assets/colab-badge.svg\" alt=\"Open In Colab\"/></a>"
      ]
    },
    {
      "cell_type": "markdown",
      "source": [
        "Rock Paper Scissors Game\n"
      ],
      "metadata": {
        "id": "oFaNoHfmXS8c"
      }
    },
    {
      "cell_type": "code",
      "execution_count": null,
      "metadata": {
        "colab": {
          "base_uri": "https://localhost:8080/"
        },
        "id": "2vnAsMXJEfPG",
        "outputId": "d0a4eef0-3285-41a3-a2de-455c501ef580"
      },
      "outputs": [
        {
          "name": "stdout",
          "output_type": "stream",
          "text": [
            "do you want to play a game?y\n",
            "Enter your choice (rock, paper, scissors): rock\n",
            "you win\n",
            "do you want to play a game?n\n"
          ]
        }
      ],
      "source": [
        "import random\n",
        "answer=input('do you want to play a game?')\n",
        "while answer == 'y':\n",
        "  user_choice = input('Enter your choice (rock, paper, scissors): ').lower()\n",
        "  computer_choice = random.choice(['rock', 'paper', 'scissors'])\n",
        "\n",
        "  if user_choice == computer_choice:\n",
        "          print('it is a tie')\n",
        "  elif (user_choice == 'rock' and computer_choice == 'scissors') or \\\n",
        "          (user_choice == 'paper' and computer_choice == 'rock') or \\\n",
        "          (user_choice == 'scissors' and computer_choice == 'paper'):\n",
        "        print('you win')\n",
        "  else:\n",
        "    print('computer wins')\n",
        "  answer=input('do you want to play a game?')\n",
        "\n"
      ]
    },
    {
      "cell_type": "code",
      "execution_count": null,
      "metadata": {
        "id": "_YSdn0P57rCo"
      },
      "outputs": [],
      "source": []
    },
    {
      "cell_type": "markdown",
      "metadata": {
        "id": "9fvkbZu971_m"
      },
      "source": []
    },
    {
      "cell_type": "markdown",
      "source": [
        "Math Operations:\n"
      ],
      "metadata": {
        "id": "dE4rFeyXXOz2"
      }
    },
    {
      "cell_type": "code",
      "execution_count": null,
      "metadata": {
        "colab": {
          "background_save": true,
          "base_uri": "https://localhost:8080/"
        },
        "id": "PHazu6_u72dD",
        "outputId": "b0391f6c-1584-49c4-b6a5-577d5ec3af34"
      },
      "outputs": [
        {
          "name": "stdout",
          "output_type": "stream",
          "text": [
            "1. Addition\n",
            "2. Subtraction\n",
            "3. Multiplication\n",
            "4. Division\n",
            "Enter your choice (1-4): 3\n"
          ]
        }
      ],
      "source": [
        "while True:\n",
        "\n",
        "    print(\"1. Addition\\n2. Subtraction\\n3. Multiplication\\n4. Division\")\n",
        "\n",
        "    choice = input(\"Enter your choice (1-4): \")\n",
        "\n",
        "\n",
        "    if choice in ('1', '2', '3', '4'):\n",
        "        num1 = float(input(\"Enter the first number: \"))\n",
        "        num2 = float(input(\"Enter the second number: \"))\n",
        "\n",
        "        if choice == '1':\n",
        "            result = num1 + num2\n",
        "        elif choice == '2':\n",
        "            result = num1 - num2\n",
        "        elif choice == '3':\n",
        "            result = num1 * num2\n",
        "        elif choice == '4':\n",
        "            result = num1 / num2\n",
        "\n",
        "        print(f\"Result: {result}\")\n",
        "\n"
      ]
    },
    {
      "cell_type": "code",
      "execution_count": null,
      "metadata": {
        "id": "btOpMuTyCr8O"
      },
      "outputs": [],
      "source": [
        "while True:\n",
        "  operator = input('Enter an opterator:')\n",
        "\n",
        "  if operator == 'break'\n",
        "  break\n",
        "\n",
        "  num1 = float(input('Enter first number:'))\n",
        "  num2 = float(input('Enter second number:'))\n",
        "\n",
        "  if operator == '+'\n",
        "    print(f'{num1}')"
      ]
    },
    {
      "cell_type": "code",
      "execution_count": null,
      "metadata": {
        "id": "NRz9DzEEK9dE"
      },
      "outputs": [],
      "source": []
    },
    {
      "cell_type": "code",
      "execution_count": 20,
      "metadata": {
        "id": "jF8zVRszNWTL",
        "colab": {
          "base_uri": "https://localhost:8080/",
          "height": 108
        },
        "outputId": "2670ac8f-c287-40fe-da38-9df5183352e2"
      },
      "outputs": [
        {
          "output_type": "error",
          "ename": "SyntaxError",
          "evalue": "expected ':' (<ipython-input-20-42be433c32a7>, line 4)",
          "traceback": [
            "\u001b[0;36m  File \u001b[0;32m\"<ipython-input-20-42be433c32a7>\"\u001b[0;36m, line \u001b[0;32m4\u001b[0m\n\u001b[0;31m    if(year)\u001b[0m\n\u001b[0m            ^\u001b[0m\n\u001b[0;31mSyntaxError\u001b[0m\u001b[0;31m:\u001b[0m expected ':'\n"
          ]
        }
      ],
      "source": [
        " if (year % 4 == 0 and year % 100 != 0) or (year % 400 == 0):\n",
        "  print('true')\n",
        "\n",
        "if(year)"
      ]
    },
    {
      "cell_type": "markdown",
      "source": [
        "Rock, Paper, Scissors Game\n"
      ],
      "metadata": {
        "id": "dmCi7Gg8XJtD"
      }
    },
    {
      "cell_type": "code",
      "execution_count": null,
      "metadata": {
        "colab": {
          "base_uri": "https://localhost:8080/"
        },
        "id": "RyH9vYQ4Lopt",
        "outputId": "ab779bba-553b-4beb-b884-25d41191475e"
      },
      "outputs": [
        {
          "name": "stdout",
          "output_type": "stream",
          "text": [
            "Enter your choice (rock, paper, or scissors): rock\n",
            "You chose: rock\n",
            "Computer chose: paper\n",
            "Computer wins!\n"
          ]
        }
      ],
      "source": [
        "import random\n",
        "\n",
        "user_choice = input(\"Enter your choice (rock, paper, or scissors): \")\n",
        "computer_choice = random.choice([\"rock\", \"paper\", \"scissors\"])\n",
        "\n",
        "print(f\"You chose: {user_choice}\")\n",
        "print(f\"Computer chose: {computer_choice}\")\n",
        "\n",
        "if user_choice == computer_choice:\n",
        "    print(\"It's a tie!\")\n",
        "elif (\n",
        "    (user_choice == \"rock\" and computer_choice == \"scissors\") or\n",
        "    (user_choice == \"paper\" and computer_choice == \"rock\") or\n",
        "    (user_choice == \"scissors\" and computer_choice == \"paper\")\n",
        "):\n",
        "    print(\"You win!\")\n",
        "else:\n",
        "    print(\"Computer wins!\")"
      ]
    },
    {
      "cell_type": "markdown",
      "source": [
        "Write a program that takes as input from the keyboard a string that corresponds to a date (e.g. 02/20/2024) in the format MM/DD/YYYY\n"
      ],
      "metadata": {
        "id": "kD6rDNPpEM_2"
      }
    },
    {
      "cell_type": "code",
      "source": [
        "date_input = input(\"Enter a date (MM/DD/YYYY): \")\n",
        "\n",
        "\n",
        "Month = date_input[0:2]\n",
        "Day = date_input[3:5]\n",
        "Year = date_input[6:]\n",
        "\n",
        "\n",
        "print(\"Month:\", Month)\n",
        "print(\"Day:\", Day)\n",
        "print(\"Year:\", Year)\n"
      ],
      "metadata": {
        "colab": {
          "base_uri": "https://localhost:8080/"
        },
        "id": "-TM78G2uEcns",
        "outputId": "5b97211c-6f3e-49b4-f35b-6263d746f01e"
      },
      "execution_count": null,
      "outputs": [
        {
          "output_type": "stream",
          "name": "stdout",
          "text": [
            "Enter a date (MM/DD/YYYY): 09/22/2003\n",
            "Month: 09\n",
            "Day: 22\n",
            "Year: 2003\n"
          ]
        }
      ]
    },
    {
      "cell_type": "markdown",
      "source": [
        "Matching characters:\n"
      ],
      "metadata": {
        "id": "hVtAHDy1W-UC"
      }
    },
    {
      "cell_type": "code",
      "source": [
        "s1 = 'abcdefg'\n",
        "s2 = 'abdght'\n",
        "\n",
        "for index in range(len(s1)):\n",
        "    if s1[index] in s2:\n",
        "      print(s1[index])\n",
        "print()\n",
        "for char in s1:\n",
        "  if char in s2\n",
        "  print(char)\n",
        "\n",
        ""
      ],
      "metadata": {
        "id": "waff2ZbxXzMJ"
      },
      "execution_count": null,
      "outputs": []
    }
  ],
  "metadata": {
    "colab": {
      "provenance": [],
      "authorship_tag": "ABX9TyOEvy94HaPP3GKYev4Y1w/A",
      "include_colab_link": true
    },
    "kernelspec": {
      "display_name": "Python 3",
      "name": "python3"
    },
    "language_info": {
      "name": "python"
    }
  },
  "nbformat": 4,
  "nbformat_minor": 0
}